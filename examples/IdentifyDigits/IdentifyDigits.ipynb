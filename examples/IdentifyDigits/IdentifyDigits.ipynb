{
 "cells": [
  {
   "cell_type": "markdown",
   "metadata": {},
   "source": [
    "\n",
    "title:\"识别手写数字\"\n",
    "date：2017/07/28 10:15:00\n",
    "\n",
    "---"
   ]
  },
  {
   "cell_type": "markdown",
   "metadata": {},
   "source": [
    "# 准备\n",
    "## (1)导入模块"
   ]
  },
  {
   "cell_type": "code",
   "execution_count": 2,
   "metadata": {},
   "outputs": [],
   "source": [
    "import os\n",
    "import numpy as np\n",
    "import pandas as pd\n",
    "from PIL import Image\n",
    "from sklearn.metrics import accuracy_score\n",
    "import tensorflow as tf\n",
    "import keras"
   ]
  },
  {
   "cell_type": "markdown",
   "metadata": {},
   "source": [
    "## (2)设置随机数\n",
    "seed解释：\n",
    "\n",
    "`seed的作用是给随机数对象一个种子值，用于产生随机序列。\n",
    "对于同一个种子值的输入，之后产生的随机数序列也一样。\n",
    "通常是把时间秒数等变化值作为种子值，达到每次运行产生的随机系列都不一样。`\n",
    "\n",
    "`对于某一个伪随机数发生器，只要该种子（seed）相同，产生的随机数序列就是相同的`"
   ]
  },
  {
   "cell_type": "code",
   "execution_count": 3,
   "metadata": {},
   "outputs": [
    {
     "name": "stdout",
     "output_type": "stream",
     "text": [
      "<mtrand.RandomState object at 0x0000013EB0993558>\n"
     ]
    }
   ],
   "source": [
    "seed=128\n",
    "rng=np.random.RandomState(seed)#伪随机数产生器的种子\n",
    "print(rng)"
   ]
  },
  {
   "cell_type": "markdown",
   "metadata": {},
   "source": [
    "# 加载数据\n",
    "## (1)读取数据集"
   ]
  },
  {
   "cell_type": "code",
   "execution_count": 4,
   "metadata": {},
   "outputs": [
    {
     "data": {
      "text/plain": [
       "['Images', 'sample_submission.csv', 'sub02.csv', 'test.csv', 'train.csv']"
      ]
     },
     "execution_count": 4,
     "metadata": {},
     "output_type": "execute_result"
    }
   ],
   "source": [
    "root_dir='C:/Users/Perfect/Desktop/Train/'\n",
    "root_dir=os.path.abspath(root_dir)\n",
    "os.listdir(os.path.abspath(root_dir))"
   ]
  },
  {
   "cell_type": "code",
   "execution_count": 5,
   "metadata": {},
   "outputs": [
    {
     "data": {
      "text/html": [
       "<div>\n",
       "<style>\n",
       "    .dataframe thead tr:only-child th {\n",
       "        text-align: right;\n",
       "    }\n",
       "\n",
       "    .dataframe thead th {\n",
       "        text-align: left;\n",
       "    }\n",
       "\n",
       "    .dataframe tbody tr th {\n",
       "        vertical-align: top;\n",
       "    }\n",
       "</style>\n",
       "<table border=\"1\" class=\"dataframe\">\n",
       "  <thead>\n",
       "    <tr style=\"text-align: right;\">\n",
       "      <th></th>\n",
       "      <th>filename</th>\n",
       "      <th>label</th>\n",
       "    </tr>\n",
       "  </thead>\n",
       "  <tbody>\n",
       "  </tbody>\n",
       "</table>\n",
       "</div>"
      ],
      "text/plain": [
       "Empty DataFrame\n",
       "Columns: [filename, label]\n",
       "Index: []"
      ]
     },
     "execution_count": 5,
     "metadata": {},
     "output_type": "execute_result"
    }
   ],
   "source": [
    "train=pd.read_csv(os.path.join(root_dir,'train.csv'))\n",
    "test=pd.read_csv(os.path.join(root_dir,'test.csv'))\n",
    "sample_submission=pd.read_csv(os.path.join(root_dir,'sample_submission.csv'))\n",
    "sample_submission"
   ]
  },
  {
   "cell_type": "markdown",
   "metadata": {},
   "source": [
    "## (2)打开图像"
   ]
  },
  {
   "cell_type": "code",
   "execution_count": 6,
   "metadata": {},
   "outputs": [
    {
     "name": "stdout",
     "output_type": "stream",
     "text": [
      "23635.png\n"
     ]
    }
   ],
   "source": [
    "img_name=rng.choice(train.filename)\n",
    "print(img_name)\n",
    "file_path=os.path.join(root_dir,'Images','train',img_name)\n",
    "img=Image.open(file_path)\n",
    "img.show()"
   ]
  },
  {
   "cell_type": "markdown",
   "metadata": {},
   "source": [
    "## (3)将图像转换成numpy数组"
   ]
  },
  {
   "cell_type": "markdown",
   "metadata": {},
   "source": [
    "`\t\n",
    "Convert between PIL image and NumPy ndarray\n",
    "\n",
    "image = Image.open(“ponzo.jpg”)   # image is a PIL image\n",
    "\n",
    "array = numpy.array(image)          # array is a numpy array \n",
    "\n",
    "image2 = Image.fromarray(array)   # image2 is a PIL image `"
   ]
  },
  {
   "cell_type": "code",
   "execution_count": 7,
   "metadata": {},
   "outputs": [
    {
     "data": {
      "text/plain": [
       "array([[[  0,   0,   0, 255],\n",
       "        [  0,   0,   0, 255],\n",
       "        [  0,   0,   0, 255],\n",
       "        ..., \n",
       "        [  0,   0,   0, 255],\n",
       "        [  0,   0,   0, 255],\n",
       "        [  0,   0,   0, 255]],\n",
       "\n",
       "       [[  0,   0,   0, 255],\n",
       "        [  0,   0,   0, 255],\n",
       "        [  0,   0,   0, 255],\n",
       "        ..., \n",
       "        [  0,   0,   0, 255],\n",
       "        [  0,   0,   0, 255],\n",
       "        [  0,   0,   0, 255]],\n",
       "\n",
       "       [[  0,   0,   0, 255],\n",
       "        [  0,   0,   0, 255],\n",
       "        [  0,   0,   0, 255],\n",
       "        ..., \n",
       "        [  0,   0,   0, 255],\n",
       "        [  0,   0,   0, 255],\n",
       "        [  0,   0,   0, 255]],\n",
       "\n",
       "       ..., \n",
       "       [[  0,   0,   0, 255],\n",
       "        [  0,   0,   0, 255],\n",
       "        [  0,   0,   0, 255],\n",
       "        ..., \n",
       "        [  0,   0,   0, 255],\n",
       "        [  0,   0,   0, 255],\n",
       "        [  0,   0,   0, 255]],\n",
       "\n",
       "       [[  0,   0,   0, 255],\n",
       "        [  0,   0,   0, 255],\n",
       "        [  0,   0,   0, 255],\n",
       "        ..., \n",
       "        [  0,   0,   0, 255],\n",
       "        [  0,   0,   0, 255],\n",
       "        [  0,   0,   0, 255]],\n",
       "\n",
       "       [[  0,   0,   0, 255],\n",
       "        [  0,   0,   0, 255],\n",
       "        [  0,   0,   0, 255],\n",
       "        ..., \n",
       "        [  0,   0,   0, 255],\n",
       "        [  0,   0,   0, 255],\n",
       "        [  0,   0,   0, 255]]], dtype=uint8)"
      ]
     },
     "execution_count": 7,
     "metadata": {},
     "output_type": "execute_result"
    }
   ],
   "source": [
    "img=np.array(img)\n",
    "img"
   ]
  },
  {
   "cell_type": "markdown",
   "metadata": {},
   "source": [
    "## (4)为了方便地处理数据，将所有图像转换成numpy数组"
   ]
  },
  {
   "cell_type": "code",
   "execution_count": 8,
   "metadata": {},
   "outputs": [
    {
     "name": "stdout",
     "output_type": "stream",
     "text": [
      "(49000, 28, 28, 4)\n",
      "49000\n",
      "(49000, 28, 28, 4)\n"
     ]
    }
   ],
   "source": [
    "temp=[]\n",
    "for img_name in train.filename:\n",
    "    img_path=os.path.join(root_dir,'Images','train',img_name)\n",
    "    img=Image.open(img_path)\n",
    "    img=np.array(img).astype('float32')\n",
    "    temp.append(img)\n",
    "train_x=np.stack(temp)\n",
    "train_x/=255.0\n",
    "print(train_x.shape)\n",
    "print(len(train_x))\n",
    "# train_x=train_x.reshape(-1,784).astype('float32')#由四维向量转换成二维向量\n",
    "print(train_x.shape)\n",
    "temp=[]\n",
    "for img_name in test.filename:\n",
    "    img_path=os.path.join(root_dir,'Images','test',img_name)\n",
    "    img=Image.open(file_path)\n",
    "    img=np.array(img).astype('float32')\n",
    "    temp.append(img)\n",
    "test_x=np.stack(temp)\n",
    "test_x/=255.0\n",
    "# test_x=test_x.reshape(-1,784).astype('float32')"
   ]
  },
  {
   "cell_type": "code",
   "execution_count": 349,
   "metadata": {},
   "outputs": [
    {
     "name": "stdout",
     "output_type": "stream",
     "text": [
      "[[ 0.  0.  0. ...,  0.  0.  0.]\n",
      " [ 0.  0.  0. ...,  0.  0.  1.]\n",
      " [ 0.  1.  0. ...,  0.  0.  0.]\n",
      " ..., \n",
      " [ 0.  0.  0. ...,  0.  0.  1.]\n",
      " [ 0.  0.  0. ...,  0.  0.  0.]\n",
      " [ 1.  0.  0. ...,  0.  0.  0.]]\n",
      "(49000, 10)\n",
      "49000\n",
      "<class 'numpy.ndarray'>\n"
     ]
    }
   ],
   "source": [
    "train_y=keras.utils.np_utils.to_categorical(train.label.values)\n",
    "print(train_y)\n",
    "print(train_y.shape)\n",
    "print(len(train))\n",
    "print(type(train_y))"
   ]
  },
  {
   "cell_type": "markdown",
   "metadata": {},
   "source": [
    "## (5)为了测试模型的合适函数，需要创建测试集合验证集"
   ]
  },
  {
   "cell_type": "code",
   "execution_count": 350,
   "metadata": {
    "collapsed": true
   },
   "outputs": [],
   "source": [
    "split_size=int(train_x.shape[0]*0.7)\n",
    "train_x,val_x=train_x[:split_size],train_x[split_size:]\n",
    "train_y,val_y=train_y[:split_size],train_y[split_size:]"
   ]
  },
  {
   "cell_type": "code",
   "execution_count": 351,
   "metadata": {},
   "outputs": [
    {
     "data": {
      "text/plain": [
       "34300    3\n",
       "34301    1\n",
       "34302    6\n",
       "34303    8\n",
       "34304    3\n",
       "34305    8\n",
       "34306    8\n",
       "34307    9\n",
       "34308    3\n",
       "34309    8\n",
       "34310    4\n",
       "34311    6\n",
       "34312    6\n",
       "34313    3\n",
       "34314    6\n",
       "34315    7\n",
       "34316    5\n",
       "34317    3\n",
       "34318    0\n",
       "34319    3\n",
       "34320    9\n",
       "34321    3\n",
       "34322    8\n",
       "34323    8\n",
       "34324    7\n",
       "34325    4\n",
       "34326    3\n",
       "34327    8\n",
       "34328    6\n",
       "34329    5\n",
       "        ..\n",
       "48970    7\n",
       "48971    5\n",
       "48972    0\n",
       "48973    1\n",
       "48974    4\n",
       "48975    1\n",
       "48976    7\n",
       "48977    5\n",
       "48978    6\n",
       "48979    5\n",
       "48980    6\n",
       "48981    3\n",
       "48982    5\n",
       "48983    5\n",
       "48984    9\n",
       "48985    2\n",
       "48986    9\n",
       "48987    0\n",
       "48988    0\n",
       "48989    7\n",
       "48990    0\n",
       "48991    1\n",
       "48992    1\n",
       "48993    6\n",
       "48994    9\n",
       "48995    2\n",
       "48996    4\n",
       "48997    9\n",
       "48998    3\n",
       "48999    0\n",
       "Name: label, Length: 14700, dtype: int64"
      ]
     },
     "execution_count": 351,
     "metadata": {},
     "output_type": "execute_result"
    }
   ],
   "source": [
    "train.label.ix[split_size:]"
   ]
  },
  {
   "cell_type": "markdown",
   "metadata": {},
   "source": [
    "# 构建模型\n",
    "## (a)定义神经网络"
   ]
  },
  {
   "cell_type": "markdown",
   "metadata": {},
   "source": [
    "在这里，神经网络有三层：输入层、隐藏层、输出层。输入层和输出层的神经元的数量是固定的，输入层是28x28的图片，输出层是10x1的分类向量，在隐藏层，我们设置神经元的数量为50."
   ]
  },
  {
   "cell_type": "code",
   "execution_count": 487,
   "metadata": {
    "collapsed": true
   },
   "outputs": [],
   "source": [
    "#声明变量\n",
    "input_num_units=(28,28,4)\n",
    "hidden_num_units=500\n",
    "output_num_units=10\n",
    "epochs=5\n",
    "batch_size=128"
   ]
  },
  {
   "cell_type": "code",
   "execution_count": 544,
   "metadata": {},
   "outputs": [
    {
     "name": "stdout",
     "output_type": "stream",
     "text": [
      "_________________________________________________________________\n",
      "Layer (type)                 Output Shape              Param #   \n",
      "=================================================================\n",
      "input_148 (InputLayer)       (None, 28, 28, 4)         0         \n",
      "_________________________________________________________________\n",
      "flatten_141 (Flatten)        (None, 3136)              0         \n",
      "_________________________________________________________________\n",
      "dense_419 (Dense)            (None, 500)               1568500   \n",
      "_________________________________________________________________\n",
      "dense_420 (Dense)            (None, 10)                5010      \n",
      "=================================================================\n",
      "Total params: 1,573,510\n",
      "Trainable params: 1,573,510\n",
      "Non-trainable params: 0\n",
      "_________________________________________________________________\n"
     ]
    }
   ],
   "source": [
    "#导入keras模块\n",
    "from keras.models import Sequential\n",
    "from keras.layers import Dense,Flatten,InputLayer\n",
    "#创建模型\n",
    "model=Sequential({\n",
    "    InputLayer(input_shape=input_num_units),\n",
    "    Flatten(),\n",
    "    Dense(units=hidden_num_units,activation='relu'),\n",
    "    Dense(units=output_num_units,activation='softmax')\n",
    "})\n",
    "# model=Sequential([\n",
    "#     Dense(units=hidden_num_units, input_dim=input_num_units, activation='relu'),\n",
    "#     Dense(units=output_num_units, input_dim=hidden_num_units, activation='softmax'),\n",
    "# ])\n",
    "model.summary()"
   ]
  },
  {
   "cell_type": "markdown",
   "metadata": {},
   "source": [
    "## 训练模型"
   ]
  },
  {
   "cell_type": "code",
   "execution_count": 545,
   "metadata": {},
   "outputs": [
    {
     "name": "stdout",
     "output_type": "stream",
     "text": [
      "Epoch 1/5\n",
      "34300/34300 [==============================] - 25s - loss: 0.4923 - acc: 0.8584    \n",
      "Epoch 2/5\n",
      "34300/34300 [==============================] - 22s - loss: 0.2489 - acc: 0.9268    \n",
      "Epoch 3/5\n",
      "34300/34300 [==============================] - 23s - loss: 0.1957 - acc: 0.9410    \n",
      "Epoch 4/5\n",
      "34300/34300 [==============================] - 16s - loss: 0.1503 - acc: 0.9549    \n",
      "Epoch 5/5\n",
      "34300/34300 [==============================] - 16s - loss: 0.1221 - acc: 0.9637    \n"
     ]
    },
    {
     "data": {
      "text/plain": [
       "<keras.callbacks.History at 0x236eef0fdd8>"
      ]
     },
     "execution_count": 545,
     "metadata": {},
     "output_type": "execute_result"
    }
   ],
   "source": [
    "model.compile(optimizer='adam',loss='categorical_crossentropy', metrics=['accuracy'])\n",
    "model.fit(train_x,train_y,batch_size=batch_size,epochs=epochs,verbose=1)"
   ]
  },
  {
   "cell_type": "code",
   "execution_count": 546,
   "metadata": {},
   "outputs": [
    {
     "name": "stdout",
     "output_type": "stream",
     "text": [
      "20736/21000 [============================>.] - ETA: 0s55422.png\n",
      "49000\n",
      "6422\n",
      "Prediction is: 9\n"
     ]
    },
    {
     "data": {
      "text/plain": [
       "array([9, 9, 9, ..., 9, 9, 9], dtype=int64)"
      ]
     },
     "execution_count": 546,
     "metadata": {},
     "output_type": "execute_result"
    }
   ],
   "source": [
    "pred=model.predict_classes(test_x)\n",
    "\n",
    "img_name=rng.choice(test.filename)\n",
    "print(img_name)\n",
    "file_path=os.path.join(root_dir,'Images','test',img_name)\n",
    "img=Image.open(file_path)\n",
    "test_index=int(img_name.split('.')[0])-train.shape[0]\n",
    "print(train.shape[0])\n",
    "print(test_index)\n",
    "print(\"Prediction is:\",pred[test_index])\n",
    "img.show()\n",
    "pred"
   ]
  },
  {
   "cell_type": "code",
   "execution_count": 494,
   "metadata": {
    "collapsed": true
   },
   "outputs": [],
   "source": [
    "sample_submission.filename = test.filename; sample_submission.label = pred\n",
    "sample_submission.to_csv(os.path.join(root_dir, 'sub02.csv'), index=False)"
   ]
  },
  {
   "cell_type": "code",
   "execution_count": null,
   "metadata": {
    "collapsed": true
   },
   "outputs": [],
   "source": []
  }
 ],
 "metadata": {
  "kernelspec": {
   "display_name": "Python 3",
   "language": "python",
   "name": "python3"
  },
  "language_info": {
   "codemirror_mode": {
    "name": "ipython",
    "version": 3
   },
   "file_extension": ".py",
   "mimetype": "text/x-python",
   "name": "python",
   "nbconvert_exporter": "python",
   "pygments_lexer": "ipython3",
   "version": "3.5.3"
  }
 },
 "nbformat": 4,
 "nbformat_minor": 2
}
