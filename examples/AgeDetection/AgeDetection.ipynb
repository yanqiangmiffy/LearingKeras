{
 "cells": [
  {
   "cell_type": "markdown",
   "metadata": {},
   "source": [
    "# 引入所需要模块"
   ]
  },
  {
   "cell_type": "code",
   "execution_count": 4,
   "metadata": {
    "collapsed": true
   },
   "outputs": [],
   "source": [
    "import os\n",
    "import random\n",
    "import pandas as pd\n",
    "import numpy as np\n",
    "from PIL import Image"
   ]
  },
  {
   "cell_type": "markdown",
   "metadata": {},
   "source": [
    "# 加载数据集"
   ]
  },
  {
   "cell_type": "code",
   "execution_count": 5,
   "metadata": {
    "collapsed": true
   },
   "outputs": [],
   "source": [
    "root_dir=os.path.abspath('E:/data/age')\n",
    "train=pd.read_csv(os.path.join(root_dir,'train.csv'))\n",
    "test=pd.read_csv(os.path.join(root_dir,'test.csv'))"
   ]
  },
  {
   "cell_type": "code",
   "execution_count": 8,
   "metadata": {},
   "outputs": [
    {
     "name": "stdout",
     "output_type": "stream",
     "text": [
      "10471.jpg\n",
      "MIDDLE\n"
     ]
    }
   ],
   "source": [
    "#随机读取图片\n",
    "i=random.choice(train.index)\n",
    "img_name=train.ID[i]\n",
    "print(img_name)\n",
    "img=Image.open(os.path.join(root_dir,'Train',img_name))\n",
    "img.show()\n",
    "print(train.Class[i])"
   ]
  },
  {
   "cell_type": "markdown",
   "metadata": {},
   "source": [
    "# 格式化图片尺寸和将数据存到numpy数组"
   ]
  },
  {
   "cell_type": "code",
   "execution_count": 10,
   "metadata": {},
   "outputs": [
    {
     "name": "stdout",
     "output_type": "stream",
     "text": [
      "(19906, 32, 32, 3)\n",
      "4\n"
     ]
    }
   ],
   "source": [
    "temp=[]\n",
    "for img_name in train.ID:\n",
    "    img_path=os.path.join(root_dir,'Train',img_name)\n",
    "    img=Image.open(img_path)\n",
    "    img=img.resize((32,32))\n",
    "    array=np.array(img)\n",
    "    temp.append(array.astype('float32'))\n",
    "train_x=np.stack(temp)\n",
    "print(train_x.shape)\n",
    "print(train_x.ndim)"
   ]
  },
  {
   "cell_type": "code",
   "execution_count": 12,
   "metadata": {},
   "outputs": [
    {
     "name": "stdout",
     "output_type": "stream",
     "text": [
      "(6636, 32, 32, 3)\n"
     ]
    }
   ],
   "source": [
    "temp=[]\n",
    "for img_name in test.ID:\n",
    "    img_path=os.path.join(root_dir,'Test',img_name)\n",
    "    img=Image.open(img_path)\n",
    "    img=img.resize((32,32))\n",
    "    array=np.array(img)\n",
    "    temp.append(array.astype('float32'))\n",
    "test_x=np.stack(temp)\n",
    "print(test_x.shape)"
   ]
  },
  {
   "cell_type": "code",
   "execution_count": 13,
   "metadata": {
    "collapsed": true
   },
   "outputs": [],
   "source": [
    "train_x = train_x / 255.\n",
    "test_x = test_x / 255."
   ]
  },
  {
   "cell_type": "code",
   "execution_count": 15,
   "metadata": {},
   "outputs": [
    {
     "data": {
      "text/plain": [
       "MIDDLE    0.542751\n",
       "YOUNG     0.336883\n",
       "OLD       0.120366\n",
       "Name: Class, dtype: float64"
      ]
     },
     "execution_count": 15,
     "metadata": {},
     "output_type": "execute_result"
    }
   ],
   "source": [
    "train.Class.value_counts(normalize=True)"
   ]
  },
  {
   "cell_type": "code",
   "execution_count": 16,
   "metadata": {
    "collapsed": true
   },
   "outputs": [],
   "source": [
    "test['Class'] = 'MIDDLE'\n",
    "test.to_csv('sub01.csv', index=False)"
   ]
  },
  {
   "cell_type": "markdown",
   "metadata": {},
   "source": [
    "# 创建模型"
   ]
  },
  {
   "cell_type": "code",
   "execution_count": 19,
   "metadata": {},
   "outputs": [
    {
     "name": "stdout",
     "output_type": "stream",
     "text": [
      "0        MIDDLE\n",
      "1         YOUNG\n",
      "2        MIDDLE\n",
      "3         YOUNG\n",
      "4        MIDDLE\n",
      "5        MIDDLE\n",
      "6         YOUNG\n",
      "7         YOUNG\n",
      "8         YOUNG\n",
      "9           OLD\n",
      "10        YOUNG\n",
      "11       MIDDLE\n",
      "12       MIDDLE\n",
      "13       MIDDLE\n",
      "14       MIDDLE\n",
      "15       MIDDLE\n",
      "16          OLD\n",
      "17        YOUNG\n",
      "18          OLD\n",
      "19       MIDDLE\n",
      "20        YOUNG\n",
      "21          OLD\n",
      "22        YOUNG\n",
      "23       MIDDLE\n",
      "24       MIDDLE\n",
      "25        YOUNG\n",
      "26       MIDDLE\n",
      "27          OLD\n",
      "28       MIDDLE\n",
      "29        YOUNG\n",
      "          ...  \n",
      "19876       OLD\n",
      "19877       OLD\n",
      "19878     YOUNG\n",
      "19879     YOUNG\n",
      "19880     YOUNG\n",
      "19881    MIDDLE\n",
      "19882    MIDDLE\n",
      "19883     YOUNG\n",
      "19884       OLD\n",
      "19885     YOUNG\n",
      "19886    MIDDLE\n",
      "19887    MIDDLE\n",
      "19888     YOUNG\n",
      "19889     YOUNG\n",
      "19890    MIDDLE\n",
      "19891     YOUNG\n",
      "19892    MIDDLE\n",
      "19893    MIDDLE\n",
      "19894    MIDDLE\n",
      "19895    MIDDLE\n",
      "19896     YOUNG\n",
      "19897    MIDDLE\n",
      "19898       OLD\n",
      "19899    MIDDLE\n",
      "19900    MIDDLE\n",
      "19901    MIDDLE\n",
      "19902     YOUNG\n",
      "19903    MIDDLE\n",
      "19904    MIDDLE\n",
      "19905    MIDDLE\n",
      "Name: Class, Length: 19906, dtype: object\n",
      "[0 2 0 ..., 0 0 0]\n",
      "[[ 1.  0.  0.]\n",
      " [ 0.  0.  1.]\n",
      " [ 1.  0.  0.]\n",
      " ..., \n",
      " [ 1.  0.  0.]\n",
      " [ 1.  0.  0.]\n",
      " [ 1.  0.  0.]]\n",
      "(19906, 3)\n"
     ]
    }
   ],
   "source": [
    "import keras\n",
    "from sklearn.preprocessing import LabelEncoder\n",
    "lb=LabelEncoder()\n",
    "train_y=lb.fit_transform(train.Class)\n",
    "print(train.Class)\n",
    "print(train_y)\n",
    "train_y=keras.utils.np_utils.to_categorical(train_y)\n",
    "print(train_y)\n",
    "print(train_y.shape)"
   ]
  },
  {
   "cell_type": "code",
   "execution_count": 11,
   "metadata": {
    "collapsed": true
   },
   "outputs": [],
   "source": [
    "#构建神经网络\n",
    "input_num_units=(32,32,3)\n",
    "hidden_num_units=500\n",
    "output_num_units=3\n",
    "epochs=5\n",
    "batch_size=128"
   ]
  },
  {
   "cell_type": "code",
   "execution_count": 36,
   "metadata": {},
   "outputs": [
    {
     "name": "stdout",
     "output_type": "stream",
     "text": [
      "_________________________________________________________________\n",
      "Layer (type)                 Output Shape              Param #   \n",
      "=================================================================\n",
      "input_23 (InputLayer)        (None, 32, 32, 3)         0         \n",
      "_________________________________________________________________\n",
      "flatten_23 (Flatten)         (None, 3072)              0         \n",
      "_________________________________________________________________\n",
      "dense_45 (Dense)             (None, 500)               1536500   \n",
      "_________________________________________________________________\n",
      "dense_46 (Dense)             (None, 3)                 1503      \n",
      "=================================================================\n",
      "Total params: 1,538,003\n",
      "Trainable params: 1,538,003\n",
      "Non-trainable params: 0\n",
      "_________________________________________________________________\n"
     ]
    }
   ],
   "source": [
    "from keras.models import Sequential\n",
    "from keras.layers import Dense,Flatten,InputLayer\n",
    "model=Sequential({\n",
    "    InputLayer(input_shape=input_num_units),\n",
    "    Flatten(),\n",
    "    Dense(units=hidden_num_units,activation='relu'),\n",
    "    Dense(input_shape=(32,32,3),units=output_num_units,activation='softmax')\n",
    "})\n",
    "model.summary()"
   ]
  },
  {
   "cell_type": "markdown",
   "metadata": {},
   "source": [
    "# 编译模型"
   ]
  },
  {
   "cell_type": "code",
   "execution_count": 37,
   "metadata": {},
   "outputs": [
    {
     "name": "stdout",
     "output_type": "stream",
     "text": [
      "Epoch 1/5\n",
      "19906/19906 [==============================] - 4s - loss: 0.8878 - acc: 0.5809     \n",
      "Epoch 2/5\n",
      "19906/19906 [==============================] - 4s - loss: 0.8420 - acc: 0.6077     \n",
      "Epoch 3/5\n",
      "19906/19906 [==============================] - 4s - loss: 0.8210 - acc: 0.6214     \n",
      "Epoch 4/5\n",
      "19906/19906 [==============================] - 4s - loss: 0.8149 - acc: 0.6194     \n",
      "Epoch 5/5\n",
      "19906/19906 [==============================] - 4s - loss: 0.8042 - acc: 0.6305     \n"
     ]
    },
    {
     "data": {
      "text/plain": [
       "<keras.callbacks.History at 0x1d3803e6278>"
      ]
     },
     "execution_count": 37,
     "metadata": {},
     "output_type": "execute_result"
    }
   ],
   "source": [
    "# model.compile(optimizer='sgd',loss='categorical_crossentropy',metrics=['accuracy'])\n",
    "model.compile(optimizer='sgd',loss='categorical_crossentropy', metrics=['accuracy'])\n",
    "model.fit(train_x,train_y,batch_size=batch_size,epochs=epochs,verbose=1)"
   ]
  },
  {
   "cell_type": "code",
   "execution_count": 38,
   "metadata": {},
   "outputs": [
    {
     "name": "stdout",
     "output_type": "stream",
     "text": [
      "Train on 15924 samples, validate on 3982 samples\n",
      "Epoch 1/5\n",
      "15924/15924 [==============================] - 3s - loss: 0.7970 - acc: 0.6375 - val_loss: 0.7854 - val_acc: 0.6396\n",
      "Epoch 2/5\n",
      "15924/15924 [==============================] - 3s - loss: 0.7919 - acc: 0.6378 - val_loss: 0.7767 - val_acc: 0.6519\n",
      "Epoch 3/5\n",
      "15924/15924 [==============================] - 3s - loss: 0.7870 - acc: 0.6404 - val_loss: 0.7754 - val_acc: 0.6534\n",
      "Epoch 4/5\n",
      "15924/15924 [==============================] - 3s - loss: 0.7806 - acc: 0.6439 - val_loss: 0.7715 - val_acc: 0.6524\n",
      "Epoch 5/5\n",
      "15924/15924 [==============================] - 3s - loss: 0.7755 - acc: 0.6519 - val_loss: 0.7970 - val_acc: 0.6346\n"
     ]
    },
    {
     "data": {
      "text/plain": [
       "<keras.callbacks.History at 0x1d3800a4eb8>"
      ]
     },
     "execution_count": 38,
     "metadata": {},
     "output_type": "execute_result"
    }
   ],
   "source": [
    "model.fit(train_x, train_y, batch_size=batch_size,epochs=epochs,verbose=1, validation_split=0.2)"
   ]
  },
  {
   "cell_type": "markdown",
   "metadata": {},
   "source": [
    "# 使用卷积神经网络"
   ]
  },
  {
   "cell_type": "code",
   "execution_count": 20,
   "metadata": {
    "collapsed": true
   },
   "outputs": [],
   "source": [
    "#参数初始化\n",
    "filters=10\n",
    "filtersize=(5,5)\n",
    "\n",
    "epochs =5\n",
    "batchsize=128\n",
    "\n",
    "input_shape=(32,32,3)"
   ]
  },
  {
   "cell_type": "code",
   "execution_count": 27,
   "metadata": {},
   "outputs": [
    {
     "name": "stdout",
     "output_type": "stream",
     "text": [
      "Train on 13934 samples, validate on 5972 samples\n",
      "Epoch 1/5\n",
      "13934/13934 [==============================] - 16s - loss: 0.9239 - acc: 0.5642 - val_loss: 0.8573 - val_acc: 0.5996\n",
      "Epoch 2/5\n",
      "13934/13934 [==============================] - 16s - loss: 0.8234 - acc: 0.6255 - val_loss: 0.7915 - val_acc: 0.6445\n",
      "Epoch 3/5\n",
      "13934/13934 [==============================] - 15s - loss: 0.7884 - acc: 0.6467 - val_loss: 0.7713 - val_acc: 0.6621\n",
      "Epoch 4/5\n",
      "13934/13934 [==============================] - 15s - loss: 0.7723 - acc: 0.6578 - val_loss: 0.7769 - val_acc: 0.6567\n",
      "Epoch 5/5\n",
      "13934/13934 [==============================] - 15s - loss: 0.7526 - acc: 0.6656 - val_loss: 0.7442 - val_acc: 0.6718\n",
      "_________________________________________________________________\n",
      "Layer (type)                 Output Shape              Param #   \n",
      "=================================================================\n",
      "input_6 (InputLayer)         (None, 32, 32, 3)         0         \n",
      "_________________________________________________________________\n",
      "conv2d_6 (Conv2D)            (None, 28, 28, 10)        760       \n",
      "_________________________________________________________________\n",
      "max_pooling2d_6 (MaxPooling2 (None, 14, 14, 10)        0         \n",
      "_________________________________________________________________\n",
      "flatten_6 (Flatten)          (None, 1960)              0         \n",
      "_________________________________________________________________\n",
      "dense_6 (Dense)              (None, 3)                 5883      \n",
      "=================================================================\n",
      "Total params: 6,643\n",
      "Trainable params: 6,643\n",
      "Non-trainable params: 0\n",
      "_________________________________________________________________\n"
     ]
    }
   ],
   "source": [
    "from keras.models import Sequential\n",
    "model = Sequential()\n",
    "\n",
    "model.add(keras.layers.InputLayer(input_shape=input_shape))\n",
    "\n",
    "model.add(keras.layers.convolutional.Conv2D(filters, filtersize, strides=(1, 1), padding='valid', data_format=\"channels_last\", activation='relu'))\n",
    "model.add(keras.layers.MaxPooling2D(pool_size=(2, 2)))\n",
    "model.add(keras.layers.Flatten())\n",
    "\n",
    "model.add(keras.layers.Dense(units=3, input_dim=50,activation='softmax'))\n",
    "\n",
    "model.compile(loss='categorical_crossentropy', optimizer='adam', metrics=['accuracy'])\n",
    "model.fit(train_x, train_y, epochs=epochs, batch_size=batchsize,validation_split=0.3)\n",
    "\n",
    "model.summary()"
   ]
  },
  {
   "cell_type": "markdown",
   "metadata": {},
   "source": [
    "# 输出结果"
   ]
  },
  {
   "cell_type": "code",
   "execution_count": 28,
   "metadata": {},
   "outputs": [
    {
     "name": "stdout",
     "output_type": "stream",
     "text": [
      "6636/6636 [==============================] - 3s     \n",
      "['MIDDLE' 'YOUNG' 'MIDDLE' ..., 'MIDDLE' 'MIDDLE' 'MIDDLE']\n"
     ]
    }
   ],
   "source": [
    "pred=model.predict_classes(test_x)\n",
    "pred=lb.inverse_transform(pred)\n",
    "print(pred)\n",
    "test['Class']=pred\n",
    "test.to_csv('sub02.csv',index=False)"
   ]
  },
  {
   "cell_type": "code",
   "execution_count": 31,
   "metadata": {},
   "outputs": [
    {
     "name": "stdout",
     "output_type": "stream",
     "text": [
      "19872/19906 [============================>.] - ETA: 0sOriginal: MIDDLE Predicted: MIDDLE\n"
     ]
    }
   ],
   "source": [
    "i = random.choice(train.index)\n",
    "img_name = train.ID[i]\n",
    "\n",
    "img=Image.open(os.path.join(root_dir,'Train',img_name))\n",
    "img.show()\n",
    "pred = model.predict_classes(train_x)\n",
    "print('Original:', train.Class[i], 'Predicted:', lb.inverse_transform(pred[i]))"
   ]
  },
  {
   "cell_type": "code",
   "execution_count": null,
   "metadata": {
    "collapsed": true
   },
   "outputs": [],
   "source": []
  }
 ],
 "metadata": {
  "kernelspec": {
   "display_name": "Python 3",
   "language": "python",
   "name": "python3"
  },
  "language_info": {
   "codemirror_mode": {
    "name": "ipython",
    "version": 3
   },
   "file_extension": ".py",
   "mimetype": "text/x-python",
   "name": "python",
   "nbconvert_exporter": "python",
   "pygments_lexer": "ipython3",
   "version": "3.5.3"
  }
 },
 "nbformat": 4,
 "nbformat_minor": 2
}
