{
 "cells": [
  {
   "cell_type": "markdown",
   "metadata": {},
   "source": [
    "# 序贯模型"
   ]
  },
  {
   "cell_type": "markdown",
   "metadata": {},
   "source": [
    "序贯模型是多个网络层的线性堆叠，也就是“一条路走到黑”。\n",
    "通过向Sequential模型传递一个layer的list构造该模型"
   ]
  },
  {
   "cell_type": "code",
   "execution_count": 2,
   "metadata": {},
   "outputs": [
    {
     "name": "stderr",
     "output_type": "stream",
     "text": [
      "Using TensorFlow backend.\n"
     ]
    }
   ],
   "source": [
    "from keras.models import Sequential\n",
    "from keras.layers import Dense,Activation\n",
    "\n",
    "model=Sequential([\n",
    "    Dense(32,input_shape=(784,)),\n",
    "    Activation('relu'),\n",
    "    Dense(10),\n",
    "    Activation('softmax'),\n",
    "])"
   ]
  },
  {
   "cell_type": "markdown",
   "metadata": {},
   "source": [
    "通过.add方法一个个的将layer加入模型中"
   ]
  },
  {
   "cell_type": "code",
   "execution_count": 3,
   "metadata": {},
   "outputs": [],
   "source": [
    "model = Sequential()\n",
    "model.add(Dense(32, input_shape=(784,)))\n",
    "model.add(Activation('relu'))"
   ]
  },
  {
   "cell_type": "markdown",
   "metadata": {},
   "source": [
    "指定输入数据的shape"
   ]
  },
  {
   "cell_type": "code",
   "execution_count": 6,
   "metadata": {
    "collapsed": true
   },
   "outputs": [],
   "source": [
    "#input_shape是tuple类型\n",
    "model=Sequential()\n",
    "model.add(Dense(32,input_shape=(784,)))"
   ]
  },
  {
   "cell_type": "code",
   "execution_count": 8,
   "metadata": {
    "collapsed": true
   },
   "outputs": [],
   "source": [
    "#指定输入数据的shape\n",
    "#一些3D的时域层支持通过参数input_dim和input_length来指定输入shape\n",
    "model=Sequential()\n",
    "model.add(Dense(32,input_shape=(784,)))"
   ]
  },
  {
   "cell_type": "markdown",
   "metadata": {},
   "source": [
    "## 编译"
   ]
  },
  {
   "cell_type": "markdown",
   "metadata": {},
   "source": [
    "在训练模型之前，我们需要通过compile来对学习过程进行配置"
   ]
  },
  {
   "cell_type": "code",
   "execution_count": 10,
   "metadata": {
    "collapsed": true
   },
   "outputs": [],
   "source": [
    "#适合一个多分类问题\n",
    "model.compile(optimizer='rmsprop',\n",
    "              loss='categorical_crossentropy',\n",
    "              metrics=['accuracy'])\n",
    "#适合一个二分类问题\n",
    "model.compile(optimizer='rmsprop',\n",
    "              loss='binary_crossentropy',\n",
    "              metrics=['accuracy'])\n",
    "#适合均方差回归问题\n",
    "model.compile(optimizer='rmsprop',\n",
    "              loss='mse')\n",
    "#适合传统矩阵\n",
    "import keras.backend as K\n",
    "def mean_pred(y_true,y_pred):\n",
    "    return K.mean(y_pred)\n",
    "model.compile(optimizer='rmsprop',\n",
    "              loss='binary_crossentropy',\n",
    "              metrics=['accuracy',mean_pred])"
   ]
  },
  {
   "cell_type": "markdown",
   "metadata": {},
   "source": [
    "## 训练"
   ]
  },
  {
   "cell_type": "markdown",
   "metadata": {},
   "source": [
    "Keras以Numpy数组作为输入数据和标签的数据类型，训练模型一般使用fit函数"
   ]
  },
  {
   "cell_type": "code",
   "execution_count": 12,
   "metadata": {},
   "outputs": [
    {
     "name": "stdout",
     "output_type": "stream",
     "text": [
      "Epoch 1/10\n",
      "1000/1000 [==============================] - 0s - loss: 0.7071 - acc: 0.5200     \n",
      "Epoch 2/10\n",
      "1000/1000 [==============================] - 0s - loss: 0.6981 - acc: 0.5190     \n",
      "Epoch 3/10\n",
      "1000/1000 [==============================] - 0s - loss: 0.6919 - acc: 0.5430     \n",
      "Epoch 4/10\n",
      "1000/1000 [==============================] - 0s - loss: 0.6829 - acc: 0.5560     \n",
      "Epoch 5/10\n",
      "1000/1000 [==============================] - 0s - loss: 0.6802 - acc: 0.5570     \n",
      "Epoch 6/10\n",
      "1000/1000 [==============================] - 0s - loss: 0.6727 - acc: 0.5950     \n",
      "Epoch 7/10\n",
      "1000/1000 [==============================] - 0s - loss: 0.6694 - acc: 0.5920     \n",
      "Epoch 8/10\n",
      "1000/1000 [==============================] - 0s - loss: 0.6669 - acc: 0.6140     \n",
      "Epoch 9/10\n",
      "1000/1000 [==============================] - 0s - loss: 0.6634 - acc: 0.6150     \n",
      "Epoch 10/10\n",
      "1000/1000 [==============================] - 0s - loss: 0.6591 - acc: 0.6170     \n"
     ]
    },
    {
     "data": {
      "text/plain": [
       "<keras.callbacks.History at 0x26bb73ac320>"
      ]
     },
     "execution_count": 12,
     "metadata": {},
     "output_type": "execute_result"
    }
   ],
   "source": [
    "#对于二分类的单输入的模型\n",
    "model=Sequential()\n",
    "model.add(Dense(32,activation='relu',input_dim=100))\n",
    "model.add(Dense(1,activation='sigmoid'))\n",
    "model.compile(optimizer='rmsprop',\n",
    "              loss='binary_crossentropy',\n",
    "              metrics=['accuracy'])\n",
    "#生成numpy数据\n",
    "import numpy as np\n",
    "data=np.random.random((1000,100))\n",
    "labels=np.random.randint(2,size=(1000,1))\n",
    "model.fit(data,labels,epochs=10,batch_size=32)#fit()函数将模型训练nb_epoch轮\n",
    "#epochs整数，训练的轮数，每个epoch会把训练集轮一遍。\n",
    "# batch_size：整数，指定进行梯度下降时每个batch包含的样本数"
   ]
  },
  {
   "cell_type": "code",
   "execution_count": 13,
   "metadata": {},
   "outputs": [
    {
     "name": "stdout",
     "output_type": "stream",
     "text": [
      "Epoch 1/10\n",
      "1000/1000 [==============================] - 0s - loss: 2.3791 - acc: 0.1100     \n",
      "Epoch 2/10\n",
      "1000/1000 [==============================] - 0s - loss: 2.3194 - acc: 0.1140     \n",
      "Epoch 3/10\n",
      "1000/1000 [==============================] - 0s - loss: 2.3021 - acc: 0.1160     \n",
      "Epoch 4/10\n",
      "1000/1000 [==============================] - 0s - loss: 2.2907 - acc: 0.1280     \n",
      "Epoch 5/10\n",
      "1000/1000 [==============================] - 0s - loss: 2.2814 - acc: 0.1400     \n",
      "Epoch 6/10\n",
      "1000/1000 [==============================] - 0s - loss: 2.2731 - acc: 0.1560     \n",
      "Epoch 7/10\n",
      "1000/1000 [==============================] - 0s - loss: 2.2607 - acc: 0.1560     \n",
      "Epoch 8/10\n",
      "1000/1000 [==============================] - 0s - loss: 2.2552 - acc: 0.1680     \n",
      "Epoch 9/10\n",
      "1000/1000 [==============================] - 0s - loss: 2.2448 - acc: 0.1780     \n",
      "Epoch 10/10\n",
      "1000/1000 [==============================] - 0s - loss: 2.2362 - acc: 0.1910     \n"
     ]
    },
    {
     "data": {
      "text/plain": [
       "<keras.callbacks.History at 0x26bb8803780>"
      ]
     },
     "execution_count": 13,
     "metadata": {},
     "output_type": "execute_result"
    }
   ],
   "source": [
    "#对于具有10个类别的单输入数据模型来说\n",
    "model=Sequential()\n",
    "model.add(Dense(32,activation='relu',input_dim=100))\n",
    "model.add(Dense(10,activation='softmax'))\n",
    "model.compile(optimizer='rmsprop',\n",
    "              loss='categorical_crossentropy',\n",
    "              metrics=['accuracy'])\n",
    "#生成数据\n",
    "import numpy as np\n",
    "import keras\n",
    "data=np.random.random((1000,100))\n",
    "labels=np.random.randint(10,size=(1000,1))\n",
    "#将labels转换为类别的独热码\n",
    "#独热码，在英文文献中称做 one-hot code, 直观来说就是有多少个状态就有多少比特，而且只有一个比特为1，其他全为0的一种码制\n",
    "one_hot_labels=keras.utils.to_categorical(labels,num_classes=10)\n",
    "#训练数据并且以梯度为33迭代数据，\n",
    "model.fit(data,one_hot_labels,epochs=10,batch_size=32)"
   ]
  },
  {
   "cell_type": "code",
   "execution_count": null,
   "metadata": {
    "collapsed": true
   },
   "outputs": [],
   "source": []
  }
 ],
 "metadata": {
  "kernelspec": {
   "display_name": "Python 3",
   "language": "python",
   "name": "python3"
  },
  "language_info": {
   "codemirror_mode": {
    "name": "ipython",
    "version": 3
   },
   "file_extension": ".py",
   "mimetype": "text/x-python",
   "name": "python",
   "nbconvert_exporter": "python",
   "pygments_lexer": "ipython3",
   "version": "3.5.3"
  }
 },
 "nbformat": 4,
 "nbformat_minor": 2
}
